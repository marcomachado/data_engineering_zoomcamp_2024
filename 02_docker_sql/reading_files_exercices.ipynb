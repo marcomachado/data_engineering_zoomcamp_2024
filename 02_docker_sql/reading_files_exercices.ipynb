{
 "cells": [
  {
   "cell_type": "code",
   "execution_count": 1,
   "id": "21f55fc0-a4e4-41ee-9461-d4b98dcfa9a2",
   "metadata": {},
   "outputs": [
    {
     "name": "stdout",
     "output_type": "stream",
     "text": [
      "Hello world using Codespace\n"
     ]
    }
   ],
   "source": [
    "print(\"Hello world using Codespace\")"
   ]
  },
  {
   "cell_type": "code",
   "execution_count": null,
   "id": "3d75b9a0",
   "metadata": {},
   "outputs": [],
   "source": [
    "import pandas as pd"
   ]
  },
  {
   "cell_type": "code",
   "execution_count": null,
   "id": "e4b1a36d",
   "metadata": {},
   "outputs": [],
   "source": [
    "df = pd.read_csv(\"/data_exercices/green_tripdata_2019-09.csv\")\n",
    "df.head()"
   ]
  }
 ],
 "metadata": {
  "kernelspec": {
   "display_name": "Python 3 (ipykernel)",
   "language": "python",
   "name": "python3"
  },
  "language_info": {
   "codemirror_mode": {
    "name": "ipython",
    "version": 3
   },
   "file_extension": ".py",
   "mimetype": "text/x-python",
   "name": "python",
   "nbconvert_exporter": "python",
   "pygments_lexer": "ipython3",
   "version": "3.10.13"
  }
 },
 "nbformat": 4,
 "nbformat_minor": 5
}
