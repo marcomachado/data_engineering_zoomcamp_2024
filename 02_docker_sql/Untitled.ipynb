{
 "cells": [
  {
   "cell_type": "code",
   "execution_count": 1,
   "id": "22e68a46-6557-48c5-a882-93d5a64cfe21",
   "metadata": {},
   "outputs": [
    {
     "ename": "SyntaxError",
     "evalue": "invalid syntax (582957033.py, line 3)",
     "output_type": "error",
     "traceback": [
      "\u001b[0;36m  Cell \u001b[0;32mIn[1], line 3\u001b[0;36m\u001b[0m\n\u001b[0;31m    python ingest_data.py \\\u001b[0m\n\u001b[0m           ^\u001b[0m\n\u001b[0;31mSyntaxError\u001b[0m\u001b[0;31m:\u001b[0m invalid syntax\n"
     ]
    }
   ],
   "source": [
    "URL=\"data_exercices/taxi+_zone_lookup.csv\"\n",
    "\n",
    "python ingest_data.py \\\n",
    "  --user=root \\\n",
    "  --password=root \\\n",
    "  --host=localhost \\\n",
    "  --port=5432 \\\n",
    "  --db=ny_taxi \\\n",
    "  --table_name=taxi_zone_lookup \\\n",
    "  --url=${URL}"
   ]
  },
  {
   "cell_type": "code",
   "execution_count": null,
   "id": "14f6aa5a-8b92-4570-b560-3d2a78c821ba",
   "metadata": {},
   "outputs": [],
   "source": []
  }
 ],
 "metadata": {
  "kernelspec": {
   "display_name": "Python 3 (ipykernel)",
   "language": "python",
   "name": "python3"
  },
  "language_info": {
   "codemirror_mode": {
    "name": "ipython",
    "version": 3
   },
   "file_extension": ".py",
   "mimetype": "text/x-python",
   "name": "python",
   "nbconvert_exporter": "python",
   "pygments_lexer": "ipython3",
   "version": "3.10.13"
  }
 },
 "nbformat": 4,
 "nbformat_minor": 5
}
